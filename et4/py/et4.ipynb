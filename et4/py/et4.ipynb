{
 "cells": [
  {
   "cell_type": "markdown",
   "metadata": {
    "collapsed": true
   },
   "source": [
    "# Нелинейное программирование. Условная оптимизация"
   ]
  },
  {
   "cell_type": "markdown",
   "metadata": {},
   "source": [
    "## Инициализация окружения"
   ]
  },
  {
   "cell_type": "code",
   "execution_count": 1,
   "metadata": {},
   "outputs": [],
   "source": [
    "import numpy as np\n",
    "import numpy.linalg as la\n",
    "from scipy.misc import derivative\n",
    "import csv\n",
    "import matplotlib\n",
    "import matplotlib.cm as cm\n",
    "import matplotlib.mlab as mlab\n",
    "import matplotlib.pyplot as plt"
   ]
  },
  {
   "cell_type": "markdown",
   "metadata": {},
   "source": [
    "## Целевая функция"
   ]
  },
  {
   "cell_type": "code",
   "execution_count": 2,
   "metadata": {
    "scrolled": false
   },
   "outputs": [],
   "source": [
    "def target_function(x):\n",
    "    x1 = x[0]\n",
    "    x2 = x[1]\n",
    "    return -17 * x1 ** 2 - 23 * x2 ** 2 + 8 * x1 * x2 + 182 * x1 + 266 * x2"
   ]
  },
  {
   "cell_type": "markdown",
   "metadata": {},
   "source": [
    "## Градиент целевой функции"
   ]
  },
  {
   "cell_type": "code",
   "execution_count": 3,
   "metadata": {},
   "outputs": [],
   "source": [
    "def gradient(x):\n",
    "    x1 = x[0]\n",
    "    x2 = x[1]\n",
    "    return np.array([-34 * x1 + 8 * x2 + 182, -46 * x2 + 8 * x1 + 266])"
   ]
  },
  {
   "cell_type": "markdown",
   "metadata": {},
   "source": [
    "## Визуализация метода"
   ]
  },
  {
   "cell_type": "code",
   "execution_count": 4,
   "metadata": {},
   "outputs": [],
   "source": [
    "def plot_level_contour(x1s, x2s, name, title):\n",
    "    matplotlib.rcParams['xtick.direction'] = 'out'\n",
    "    matplotlib.rcParams['ytick.direction'] = 'out'\n",
    "\n",
    "    delta = 0.5\n",
    "    x = np.arange(-1, 15, delta)\n",
    "    y = np.arange(-1, 15, delta)\n",
    "    X, Y = np.meshgrid(x, y)\n",
    "    Z = target_function([X, Y])\n",
    "\n",
    "    fig = plt.figure(figsize=(5, 5), dpi=120)\n",
    "    CS = plt.contour(X, Y, Z, 10)\n",
    "    \n",
    "    for x1, x2 in zip(x1s, x2s):\n",
    "        plt.plot(x1, x2)\n",
    "    matplotlib.rcParams['contour.negative_linestyle'] = 'solid'\n",
    "    plt.clabel(CS, inline=1, fontsize=8)\n",
    "    plt.title(title)\n",
    "    plt.xlabel('$x_1$')\n",
    "    plt.ylabel('$x_2$')\n",
    "    plt.savefig('../report/pics/' + name)\n",
    "    plt.show()"
   ]
  },
  {
   "cell_type": "code",
   "execution_count": null,
   "metadata": {},
   "outputs": [],
   "source": []
  }
 ],
 "metadata": {
  "kernelspec": {
   "display_name": "Python 3",
   "language": "python",
   "name": "python3"
  },
  "language_info": {
   "codemirror_mode": {
    "name": "ipython",
    "version": 3
   },
   "file_extension": ".py",
   "mimetype": "text/x-python",
   "name": "python",
   "nbconvert_exporter": "python",
   "pygments_lexer": "ipython3",
   "version": "3.6.2"
  }
 },
 "nbformat": 4,
 "nbformat_minor": 1
}
