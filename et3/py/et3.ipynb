{
 "cells": [
  {
   "cell_type": "markdown",
   "metadata": {
    "collapsed": true
   },
   "source": [
    "# Нелинейное программирование. Безусловная оптимизация"
   ]
  },
  {
   "cell_type": "markdown",
   "metadata": {},
   "source": [
    "## Инициализация окружения"
   ]
  },
  {
   "cell_type": "code",
   "execution_count": 1,
   "metadata": {},
   "outputs": [],
   "source": [
    "import numpy as np\n",
    "from numpy.linalg import norm, inv\n",
    "from scipy.optimize import minimize, fmin_cg, fmin_bfgs, fmin_ncg\n",
    "from scipy.misc import derivative\n",
    "import csv"
   ]
  },
  {
   "cell_type": "markdown",
   "metadata": {},
   "source": [
    "## Целевая функция"
   ]
  },
  {
   "cell_type": "code",
   "execution_count": 2,
   "metadata": {
    "collapsed": false
   },
   "outputs": [],
   "source": [
    "def target_function(x):\n",
    "    x1 = x[0]\n",
    "    x2 = x[1]\n",
    "    return 17 * x1 ** 2 + 23 * x2 ** 2 - 8 * x1 * x2 - 182 * x1 - 266 * x2"
   ]
  },
  {
   "cell_type": "markdown",
   "metadata": {},
   "source": [
    "## Градиент целевой функции"
   ]
  },
  {
   "cell_type": "code",
   "execution_count": 3,
   "metadata": {},
   "outputs": [],
   "source": [
    "def gradient(x):\n",
    "    x1 = x[0]\n",
    "    x2 = x[1]\n",
    "    return np.array([-34 * x1 + 8 * x2 + 182, -46 * x2 + 8 * x1 + 266])"
   ]
  },
  {
   "cell_type": "markdown",
   "metadata": {},
   "source": [
    "## Гессиан"
   ]
  },
  {
   "cell_type": "code",
   "execution_count": 4,
   "metadata": {},
   "outputs": [],
   "source": [
    "def hessian(x=0):\n",
    "    return np.array([[-34, 8], [8, -46]])"
   ]
  },
  {
   "cell_type": "markdown",
   "metadata": {},
   "source": [
    "## Вспомогательные функции для информативного вывода результатов"
   ]
  },
  {
   "cell_type": "code",
   "execution_count": 5,
   "metadata": {},
   "outputs": [],
   "source": [
    "def to_csv(xk):\n",
    "    writer.writerow((xk[0], xk[1], -target_function(xk)))\n",
    "    print('x_1={x1},\\t x_2={x2},\\t f(X)={f}'.format(x1=xk[0], x2=xk[1], f=-target_function(xk)))"
   ]
  },
  {
   "cell_type": "markdown",
   "metadata": {},
   "source": [
    "## Метод релаксации"
   ]
  },
  {
   "cell_type": "code",
   "execution_count": 6,
   "metadata": {},
   "outputs": [
    {
     "name": "stdout",
     "output_type": "stream",
     "text": [
      "x_1=0,\t x_2=0,\t f(X)=0\nx_1=5.352941176470588,\t x_2=0.0,\t f(X)=487.1176470588235\nx_1=5.352941176470588,\t x_2=6.713554987212275,\t f(X)=1523.7695200842486\nx_1=6.932601173461713,\t x_2=6.713554987212277,\t f(X)=1566.1900570878463\nx_1=6.932601173461713,\t x_2=6.988278464949863,\t f(X)=1567.925935839912\nx_1=6.99724199175291,\t x_2=6.988278464949863,\t f(X)=1567.9969692415311\nx_1=6.997241991752909,\t x_2=6.99952034639181,\t f(X)=1567.9998759791931\nx_1=6.999887140327485,\t x_2=6.99952034639181,\t f(X)=1567.9999949249798\nx_1=6.999887140327485,\t x_2=6.999980372230867,\t f(X)=1567.9999997923262\n"
     ]
    }
   ],
   "source": [
    "def fmin_relax(f: callable, x0: list, gf: callable, hf: callable, stop: float, on_each_step: callable):\n",
    "    steps = 0\n",
    "    xi = x0\n",
    "    gfi = gf(xi)\n",
    "    ki = np.array([gfi[0], 0])\n",
    "    on_each_step(xi)\n",
    "    while norm(gfi) > stop:\n",
    "        steps += 1\n",
    "        ti = -(gfi.dot(ki)) / (ki.transpose().dot(hf()).dot(ki))\n",
    "        xi += ti * ki\n",
    "        on_each_step(xi)\n",
    "        gfi = gf(xi)\n",
    "        ki = gfi\n",
    "    return [xi, f(xi), steps]\n",
    "\n",
    "\n",
    "file_name = '../report/data/relax.csv'\n",
    "f = open(file_name, 'w', newline='')\n",
    "writer = csv.writer(f)\n",
    "writer.writerow(('x1', 'x2', 'f'))\n",
    "xopt, fopt, steps = fmin_relax(target_function, [0, 0], gradient, hessian, 0.01, to_csv)\n",
    "f.close()"
   ]
  },
  {
   "cell_type": "markdown",
   "metadata": {},
   "source": [
    "## Метод Ньютона"
   ]
  },
  {
   "cell_type": "code",
   "execution_count": 7,
   "metadata": {},
   "outputs": [
    {
     "name": "stdout",
     "output_type": "stream",
     "text": [
      "x_1=0,\t x_2=0,\t f(X)=0\nx_1=7.0,\t x_2=7.0,\t f(X)=1568.0\n[ 7.  7.]\n"
     ]
    }
   ],
   "source": [
    "def fmin_newton(f: callable, x0: list, gf: callable, hf: callable, stop: float, on_each_step: callable):\n",
    "    steps = 0\n",
    "    xi = x0\n",
    "    gfi = gf(xi)\n",
    "    ti = 1\n",
    "    on_each_step(xi)\n",
    "    while norm(gfi) > stop:\n",
    "        steps += 1\n",
    "        ki = - inv(hf()).dot(gfi)\n",
    "        xi += ti * ki\n",
    "        on_each_step(xi)\n",
    "        gfi = gf(xi)\n",
    "    return [xi, f(xi), steps]\n",
    "\n",
    "\n",
    "file_name = '../report/data/newton.csv'\n",
    "f = open(file_name, 'w', newline='')\n",
    "writer = csv.writer(f)\n",
    "writer.writerow(('x1', 'x2', 'f'))\n",
    "xopt, fopt, steps = fmin_newton(target_function, [0, 0], gradient, hessian, 0.01, to_csv)\n",
    "f.close()\n",
    "print(xopt)"
   ]
  },
  {
   "cell_type": "markdown",
   "metadata": {},
   "source": [
    "## Метод наискорейшего градиентного подъёма (спуска)"
   ]
  },
  {
   "cell_type": "code",
   "execution_count": 8,
   "metadata": {},
   "outputs": [
    {
     "name": "stdout",
     "output_type": "stream",
     "text": [
      "x_1=0,\t x_2=0,\t f(X)=0\nx_1=5.2423913043478265,\t x_2=7.66195652173913,\t f(X)=1496.0978260869567\nx_1=6.679008152173913,\t x_2=6.679008152173913,\t f(X)=1564.7028554761343\nx_1=6.919403133861059,\t x_2=7.030354663870511,\t f(X)=1567.8488062123909\nx_1=6.985280604804172,\t x_2=6.985280604804171,\t f(X)=1567.993066860962\nx_1=6.996304151858438,\t x_2=7.001391942806562,\t f(X)=1567.9996820741273\nx_1=6.999325027733887,\t x_2=6.999325027733887,\t f(X)=1567.999985421198\nx_1=6.999830523267964,\t x_2=7.000063828899078,\t f(X)=1567.9999993314748\n[ 6.99983052  7.00006383]\n"
     ]
    }
   ],
   "source": [
    "def fmin_gd(f: callable, x0: list, gf: callable, hf: callable, stop: float, on_each_step: callable):\n",
    "    steps = 0\n",
    "    xi = x0\n",
    "    gfi = gf(xi)\n",
    "    on_each_step(xi)\n",
    "    while norm(gfi) > stop:\n",
    "        steps += 1\n",
    "        ki = gfi\n",
    "        ti = -(gfi.dot(ki)) / (ki.transpose().dot(hf()).dot(ki))\n",
    "        xi += ti * ki\n",
    "        on_each_step(xi)\n",
    "        gfi = gf(xi)\n",
    "    return [xi, f(xi), steps]\n",
    "\n",
    "\n",
    "file_name = '../report/data/gd.csv'\n",
    "f = open(file_name, 'w', newline='')\n",
    "writer = csv.writer(f)\n",
    "writer.writerow(('x1', 'x2', 'f'))\n",
    "xopt, fopt, steps = fmin_gd(target_function, [0, 0], gradient, hessian, 0.01, to_csv)\n",
    "f.close()\n",
    "print(xopt)"
   ]
  },
  {
   "cell_type": "markdown",
   "metadata": {},
   "source": [
    "## Метод сопряжённых градиентов (Conjugate Gradient method)"
   ]
  },
  {
   "cell_type": "code",
   "execution_count": 9,
   "metadata": {},
   "outputs": [
    {
     "name": "stdout",
     "output_type": "stream",
     "text": [
      "x_1=5.361109094252702,\t x_2=7.835467138564297,\t f(X)=1495.3305834091711\nx_1=7.125213729861292,\t x_2=7.185423921587326,\t f(X)=1567.1284201321148\nx_1=7.054765530994868,\t x_2=6.994239380665157,\t f(X)=1567.9457254065308\nx_1=7.000000326775502,\t x_2=6.999999844649399,\t f(X)=1567.9999999999973\nOptimization terminated successfully.\n         Current function value: -1568.000000\n         Iterations: 4\n         Function evaluations: 40\n         Gradient evaluations: 10\n7.00000032678 6.99999984465\n"
     ]
    }
   ],
   "source": [
    "x0 = np.array([0, 0])\n",
    "\n",
    "file_name = '../report/data/cg.csv'\n",
    "f = open(file_name, 'w', newline='')\n",
    "writer = csv.writer(f)\n",
    "writer.writerow(('x1', 'x2', 'f'))\n",
    "writer.writerow((x0[0], x0[1], -target_function(x0)))\n",
    "xopt, msg = fmin_cg(target_function, x0, callback=to_csv)\n",
    "f.close()\n",
    "print(xopt, msg)"
   ]
  },
  {
   "cell_type": "markdown",
   "metadata": {},
   "source": [
    "## Метод Бройдена (BFGS)"
   ]
  },
  {
   "cell_type": "code",
   "execution_count": 10,
   "metadata": {},
   "outputs": [
    {
     "name": "stdout",
     "output_type": "stream",
     "text": [
      "x_1=0.5703307547077343,\t x_2=0.8335603338898189,\t f(X)=307.8198499446669\nx_1=3.1270769590102674,\t x_2=0.1430122836507337,\t f(X)=444.04017429337677\nx_1=3.6011566481364348,\t x_2=0.982367647852593,\t f(X)=702.363923604765\nx_1=4.625584461705584,\t x_2=2.7961118873142676,\t f(X)=1145.539251452151\nx_1=6.999999284449173,\t x_2=6.9999989800202975,\t f(X)=1567.999999999973\nx_1=7.000000464462481,\t x_2=7.000000180378583,\t f(X)=1567.9999999999964\nx_1=6.999999889250844,\t x_2=7.000000160651894,\t f(X)=1567.9999999999989\nOptimization terminated successfully.\n         Current function value: -1568.000000\n         Iterations: 7\n         Function evaluations: 36\n         Gradient evaluations: 9\n[ 6.99999989  7.00000016]\n"
     ]
    }
   ],
   "source": [
    "X0 = np.array([0, 0])\n",
    "\n",
    "file_name = '../report/data/bfgs.csv'\n",
    "f = open(file_name, 'w', newline='')\n",
    "writer = csv.writer(f)\n",
    "writer.writerow(('x1', 'x2', 'f'))\n",
    "writer.writerow((x0[0], x0[1], -target_function(x0)))\n",
    "xopt = fmin_bfgs(target_function, X0, callback=to_csv)\n",
    "f.close()\n",
    "\n",
    "print(xopt)"
   ]
  }
 ],
 "metadata": {
  "kernelspec": {
   "display_name": "Python 2",
   "language": "python",
   "name": "python2"
  },
  "language_info": {
   "codemirror_mode": {
    "name": "ipython",
    "version": 2
   },
   "file_extension": ".py",
   "mimetype": "text/x-python",
   "name": "python",
   "nbconvert_exporter": "python",
   "pygments_lexer": "ipython2",
   "version": "2.7.6"
  }
 },
 "nbformat": 4,
 "nbformat_minor": 0
}
