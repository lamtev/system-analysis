{
 "cells": [
  {
   "cell_type": "markdown",
   "metadata": {
    "collapsed": true
   },
   "source": [
    "# Нелинейное программирование. Безусловная оптимизация"
   ]
  },
  {
   "cell_type": "markdown",
   "metadata": {},
   "source": [
    "## Инициализация окружения"
   ]
  },
  {
   "cell_type": "code",
   "execution_count": 1,
   "metadata": {},
   "outputs": [],
   "source": [
    "import numpy as np\n",
    "from scipy.optimize import minimize, fmin_cg, fmin_bfgs, fmin_ncg\n",
    "from scipy.misc import derivative\n",
    "import csv"
   ]
  },
  {
   "cell_type": "markdown",
   "metadata": {},
   "source": [
    "## Целевая функция"
   ]
  },
  {
   "cell_type": "code",
   "execution_count": 2,
   "metadata": {
    "collapsed": false
   },
   "outputs": [],
   "source": [
    "def target_function(x):\n",
    "    x1 = x[0]\n",
    "    x2 = x[1]\n",
    "    return 17 * x1 ** 2 + 23 * x2 ** 2 - 8 * x1 * x2 - 182 * x1 - 266 * x2"
   ]
  },
  {
   "cell_type": "markdown",
   "metadata": {},
   "source": [
    "## Вспомогательные функции для информативного вывода результатов"
   ]
  },
  {
   "cell_type": "code",
   "execution_count": 3,
   "metadata": {},
   "outputs": [],
   "source": [
    "def write_to_csv_each_iteration(xk):\n",
    "    writer.writerow((xk[0], xk[1], -target_function(xk)))\n",
    "    print('x_1={x1}, x_2={x2}, f(X)={f}'.format(x1=xk[0], x2=xk[1], f=-target_function(xk)))"
   ]
  },
  {
   "cell_type": "markdown",
   "metadata": {},
   "source": [
    "## Метод релаксации"
   ]
  },
  {
   "cell_type": "code",
   "execution_count": 4,
   "metadata": {},
   "outputs": [],
   "source": [
    ""
   ]
  },
  {
   "cell_type": "markdown",
   "metadata": {},
   "source": [
    "## Метод Ньютона"
   ]
  },
  {
   "cell_type": "code",
   "execution_count": 4,
   "metadata": {},
   "outputs": [],
   "source": [
    "X0 = np.array([0, 0])\n",
    "\n",
    "file_name = '../report/data/ncg.csv'\n",
    "f = open(file_name, 'w')\n",
    "writer = csv.writer(f)\n",
    "writer.writerow(('x1', 'x2', 'f'))\n",
    "f.close()"
   ]
  },
  {
   "cell_type": "markdown",
   "metadata": {},
   "source": [
    "## Метод сопряжённых градиентов (Conjugate Gradient method)"
   ]
  },
  {
   "cell_type": "code",
   "execution_count": 5,
   "metadata": {},
   "outputs": [
    {
     "name": "stdout",
     "output_type": "stream",
     "text": [
      "x_1=5.361109094252702, x_2=7.835467138564297, f(X)=1495.3305834091711\nx_1=7.125213729861292, x_2=7.185423921587326, f(X)=1567.1284201321148\nx_1=7.054765530994868, x_2=6.994239380665157, f(X)=1567.9457254065308\nx_1=7.000000326775502, x_2=6.999999844649399, f(X)=1567.9999999999973\nOptimization terminated successfully.\n         Current function value: -1568.000000\n         Iterations: 4\n         Function evaluations: 40\n         Gradient evaluations: 10\n7.00000032678 6.99999984465\n"
     ]
    }
   ],
   "source": [
    "X0 = np.array([0, 0])\n",
    "\n",
    "file_name = '../report/data/cg.csv'\n",
    "f = open(file_name, 'w')\n",
    "writer = csv.writer(f)\n",
    "writer.writerow(('x1', 'x2', 'f'))\n",
    "xopt, msg = fmin_cg(target_function, X0, callback=write_to_csv_each_iteration)\n",
    "f.close()\n",
    "print(xopt, msg)"
   ]
  },
  {
   "cell_type": "markdown",
   "metadata": {},
   "source": [
    "## Метод Бройдена (BFGS)"
   ]
  },
  {
   "cell_type": "code",
   "execution_count": 6,
   "metadata": {},
   "outputs": [
    {
     "name": "stdout",
     "output_type": "stream",
     "text": [
      "x_1=0.5703307547077343, x_2=0.8335603338898189, f(X)=307.8198499446669\nx_1=3.1270769590102674, x_2=0.1430122836507337, f(X)=444.04017429337677\nx_1=3.6011566481364348, x_2=0.982367647852593, f(X)=702.363923604765\nx_1=4.625584461705584, x_2=2.7961118873142676, f(X)=1145.539251452151\nx_1=6.999999284449173, x_2=6.9999989800202975, f(X)=1567.999999999973\nx_1=7.000000464462481, x_2=7.000000180378583, f(X)=1567.9999999999964\nx_1=6.999999889250844, x_2=7.000000160651894, f(X)=1567.9999999999989\nOptimization terminated successfully.\n         Current function value: -1568.000000\n         Iterations: 7\n         Function evaluations: 36\n         Gradient evaluations: 9\n[ 6.99999989  7.00000016]\n"
     ]
    }
   ],
   "source": [
    "X0 = np.array([0, 0])\n",
    "\n",
    "file_name = '../report/data/bfgs.csv'\n",
    "f = open(file_name, 'w')\n",
    "writer = csv.writer(f)\n",
    "writer.writerow(('x1', 'x2', 'f'))\n",
    "xopt = fmin_bfgs(target_function, X0, callback=write_to_csv_each_iteration)\n",
    "f.close()\n",
    "\n",
    "print(xopt)"
   ]
  }
 ],
 "metadata": {
  "kernelspec": {
   "display_name": "Python 2",
   "language": "python",
   "name": "python2"
  },
  "language_info": {
   "codemirror_mode": {
    "name": "ipython",
    "version": 2
   },
   "file_extension": ".py",
   "mimetype": "text/x-python",
   "name": "python",
   "nbconvert_exporter": "python",
   "pygments_lexer": "ipython2",
   "version": "2.7.6"
  }
 },
 "nbformat": 4,
 "nbformat_minor": 0
}
